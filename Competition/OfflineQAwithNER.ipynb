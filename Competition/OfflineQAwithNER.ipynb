{
 "cells": [
  {
   "cell_type": "code",
   "execution_count": 1,
   "id": "f907e344",
   "metadata": {},
   "outputs": [],
   "source": [
    "from elasticsearch import Elasticsearch\n",
    "from tqdm.auto import tqdm\n",
    "from collections import defaultdict\n",
    "from elasticsearch.helpers import streaming_bulk\n",
    "from transformers import pipeline\n",
    "import torch\n",
    "from transformers import AutoTokenizer, AutoModelWithLMHead, AutoModel\n",
    "import numpy as np\n",
    "from sentence_transformers import SentenceTransformer\n",
    "from scipy.spatial import distance\n",
    "import torch\n",
    "from transformers import AutoTokenizer, T5ForConditionalGeneration"
   ]
  },
  {
   "cell_type": "markdown",
   "id": "cd62f505",
   "metadata": {},
   "source": [
    "# Dataset"
   ]
  },
  {
   "cell_type": "code",
   "execution_count": 2,
   "id": "60375a30",
   "metadata": {},
   "outputs": [],
   "source": [
    "with open('../Data/task2_questions_with_answers.tsv', 'r', encoding='UTF-8') as f:\n",
    "    question_answers = []\n",
    "    for line in f:\n",
    "        splitted = line.strip().split(\"\\t\")\n",
    "        question_answers.append((splitted[0], splitted[1:]))"
   ]
  },
  {
   "cell_type": "code",
   "execution_count": 3,
   "id": "18b091c9",
   "metadata": {},
   "outputs": [],
   "source": [
    "questions = [qa[0] for qa in question_answers]"
   ]
  },
  {
   "cell_type": "markdown",
   "id": "c1dc5f65",
   "metadata": {},
   "source": [
    "# Pretrained models"
   ]
  },
  {
   "cell_type": "code",
   "execution_count": 2,
   "id": "f88c5987",
   "metadata": {},
   "outputs": [
    {
     "name": "stderr",
     "output_type": "stream",
     "text": [
      "/home/karol/anaconda3/envs/data_science/lib/python3.9/site-packages/transformers/models/auto/modeling_auto.py:1132: FutureWarning: The class `AutoModelWithLMHead` is deprecated and will be removed in a future version. Please use `AutoModelForCausalLM` for causal language models, `AutoModelForMaskedLM` for masked language models and `AutoModelForSeq2SeqLM` for encoder-decoder models.\n",
      "  warnings.warn(\n"
     ]
    }
   ],
   "source": [
    "yes_no_model = AutoModelWithLMHead.from_pretrained('flax-community/papuGaPT2')\n",
    "yes_no_tokenizer = AutoTokenizer.from_pretrained('flax-community/papuGaPT2')\n",
    "# yes_no_tokenizer = AutoTokenizer.from_pretrained(\"allegro/herbert-large-cased\")\n",
    "# yes_no_model = AutoModelWithLMHead.from_pretrained(\"allegro/herbert-large-cased\")\n",
    "_ = yes_no_model.eval()"
   ]
  },
  {
   "cell_type": "code",
   "execution_count": 7,
   "id": "ed53643d",
   "metadata": {},
   "outputs": [
    {
     "data": {
      "application/vnd.jupyter.widget-view+json": {
       "model_id": "26abacd11aee4e87bf41f0c7499825e0",
       "version_major": 2,
       "version_minor": 0
      },
      "text/plain": [
       "Downloading:   0%|          | 0.00/690 [00:00<?, ?B/s]"
      ]
     },
     "metadata": {},
     "output_type": "display_data"
    },
    {
     "data": {
      "application/vnd.jupyter.widget-view+json": {
       "model_id": "79d77acf5f61417f927325e04b7619d0",
       "version_major": 2,
       "version_minor": 0
      },
      "text/plain": [
       "Downloading:   0%|          | 0.00/190 [00:00<?, ?B/s]"
      ]
     },
     "metadata": {},
     "output_type": "display_data"
    },
    {
     "data": {
      "application/vnd.jupyter.widget-view+json": {
       "model_id": "c19d293ee9374b4db9cae505e298287b",
       "version_major": 2,
       "version_minor": 0
      },
      "text/plain": [
       "Downloading:   0%|          | 0.00/3.77k [00:00<?, ?B/s]"
      ]
     },
     "metadata": {},
     "output_type": "display_data"
    },
    {
     "data": {
      "application/vnd.jupyter.widget-view+json": {
       "model_id": "ce2850c5c371454d88d58076124b77e8",
       "version_major": 2,
       "version_minor": 0
      },
      "text/plain": [
       "Downloading:   0%|          | 0.00/723 [00:00<?, ?B/s]"
      ]
     },
     "metadata": {},
     "output_type": "display_data"
    },
    {
     "data": {
      "application/vnd.jupyter.widget-view+json": {
       "model_id": "1fa84d7326b84c59bfa15c478ab35219",
       "version_major": 2,
       "version_minor": 0
      },
      "text/plain": [
       "Downloading:   0%|          | 0.00/122 [00:00<?, ?B/s]"
      ]
     },
     "metadata": {},
     "output_type": "display_data"
    },
    {
     "data": {
      "application/vnd.jupyter.widget-view+json": {
       "model_id": "8316f3b3a48544a4a340f21d3f052460",
       "version_major": 2,
       "version_minor": 0
      },
      "text/plain": [
       "Downloading:   0%|          | 0.00/1.11G [00:00<?, ?B/s]"
      ]
     },
     "metadata": {},
     "output_type": "display_data"
    },
    {
     "data": {
      "application/vnd.jupyter.widget-view+json": {
       "model_id": "a7d56f40e22343b3843d1840f6e8264e",
       "version_major": 2,
       "version_minor": 0
      },
      "text/plain": [
       "Downloading:   0%|          | 0.00/53.0 [00:00<?, ?B/s]"
      ]
     },
     "metadata": {},
     "output_type": "display_data"
    },
    {
     "data": {
      "application/vnd.jupyter.widget-view+json": {
       "model_id": "6d1149db614f4314a8a9a72e445ef7a7",
       "version_major": 2,
       "version_minor": 0
      },
      "text/plain": [
       "Downloading:   0%|          | 0.00/5.07M [00:00<?, ?B/s]"
      ]
     },
     "metadata": {},
     "output_type": "display_data"
    },
    {
     "data": {
      "application/vnd.jupyter.widget-view+json": {
       "model_id": "49cc3ea031954f8d90a031e8e675a7c3",
       "version_major": 2,
       "version_minor": 0
      },
      "text/plain": [
       "Downloading:   0%|          | 0.00/239 [00:00<?, ?B/s]"
      ]
     },
     "metadata": {},
     "output_type": "display_data"
    },
    {
     "data": {
      "application/vnd.jupyter.widget-view+json": {
       "model_id": "312006359e69474f8795a85628d3ac07",
       "version_major": 2,
       "version_minor": 0
      },
      "text/plain": [
       "Downloading:   0%|          | 0.00/9.08M [00:00<?, ?B/s]"
      ]
     },
     "metadata": {},
     "output_type": "display_data"
    },
    {
     "data": {
      "application/vnd.jupyter.widget-view+json": {
       "model_id": "d118c75a5c914dba9f461f3c067cc304",
       "version_major": 2,
       "version_minor": 0
      },
      "text/plain": [
       "Downloading:   0%|          | 0.00/402 [00:00<?, ?B/s]"
      ]
     },
     "metadata": {},
     "output_type": "display_data"
    },
    {
     "data": {
      "application/vnd.jupyter.widget-view+json": {
       "model_id": "1baedfb3a1d1459f8a6034bedcd08e41",
       "version_major": 2,
       "version_minor": 0
      },
      "text/plain": [
       "Downloading:   0%|          | 0.00/229 [00:00<?, ?B/s]"
      ]
     },
     "metadata": {},
     "output_type": "display_data"
    }
   ],
   "source": [
    "embedding_model = SentenceTransformer('paraphrase-multilingual-mpnet-base-v2')"
   ]
  },
  {
   "cell_type": "code",
   "execution_count": 4,
   "id": "b265af11",
   "metadata": {},
   "outputs": [],
   "source": [
    "qa_pipeline_herbert = pipeline(\n",
    "    \"question-answering\",\n",
    "    model=\"C:/Users/jakub/.cache/huggingface/hub/models--azwierzc--herbert-large-poquad/snapshots/5d064fc025bb974f06b830016dc98ac130dc4ad0\", \n",
    "    handle_impossible_answer=True,\n",
    "    tokenizer=\"C:/Users/jakub/.cache/huggingface/hub/models--azwierzc--herbert-large-poquad/snapshots/5d064fc025bb974f06b830016dc98ac130dc4ad0\"\n",
    ")\n",
    "\n",
    "def get_answer_herbert(context, question):\n",
    "    return qa_pipeline_herbert({\n",
    "        'context': context,\n",
    "        'question': question})"
   ]
  },
  {
   "cell_type": "code",
   "execution_count": 4,
   "id": "9e545513",
   "metadata": {
    "scrolled": false
   },
   "outputs": [],
   "source": [
    "# # PLT5 Large is about 3x slower than PLT5 Base\n",
    "# plt5_tokenizer = AutoTokenizer.from_pretrained(\"/home/karol/.cache/huggingface/hub/models--azwierzc--plt5-large-poquad/snapshots/43f9f31f22f446037f537b0d03f1e080c44f0438\")\n",
    "# plt5_model = T5ForConditionalGeneration.from_pretrained(\"/home/karol/.cache/huggingface/hub/models--azwierzc--plt5-large-poquad/snapshots/43f9f31f22f446037f537b0d03f1e080c44f0438\")\n",
    "# _ = plt5_model.eval()\n",
    "plt5_tokenizer = AutoTokenizer.from_pretrained(\"C:/Users/jakub/.cache/huggingface/hub/models--azwierzc--plt5-base-poquad/snapshots/e7046f4bd71217af7b189288651f9e3b25cd4e21\")\n",
    "plt5_model = T5ForConditionalGeneration.from_pretrained(\"C:/Users/jakub/.cache/huggingface/hub/models--azwierzc--plt5-base-poquad/snapshots/e7046f4bd71217af7b189288651f9e3b25cd4e21\")\n",
    "_ = plt5_model.eval()"
   ]
  },
  {
   "cell_type": "code",
   "execution_count": 5,
   "id": "f7a6b202",
   "metadata": {},
   "outputs": [],
   "source": [
    "def get_answer_plt5(context, question):\n",
    "    query = plt5_tokenizer(f\"question: {question}, context: {context}\", \n",
    "                           max_length=512, truncation=True, return_tensors=\"pt\")\n",
    "    output = plt5_model.generate(**query, max_new_tokens=8, num_beams=5, return_dict_in_generate=True, output_scores=True)\n",
    "    decoded_output = plt5_tokenizer.decode(output.sequences[0], skip_special_tokens=True)\n",
    "    score = np.exp(output.sequences_scores.numpy()[0])\n",
    "    return {'score': score, 'answer': decoded_output}"
   ]
  },
  {
   "cell_type": "code",
   "execution_count": 6,
   "id": "fded6d4b",
   "metadata": {},
   "outputs": [],
   "source": [
    "ner_classifier = pipeline(\n",
    "    \"ner\",\n",
    "    model='clarin-pl/FastPDN', \n",
    "    tokenizer='clarin-pl/FastPDN',\n",
    ")"
   ]
  },
  {
   "cell_type": "markdown",
   "id": "802ee40b",
   "metadata": {},
   "source": [
    "# Connect to elasticsearch"
   ]
  },
  {
   "cell_type": "code",
   "execution_count": 7,
   "id": "fb961616",
   "metadata": {},
   "outputs": [],
   "source": [
    "# Password for the 'elastic' user generated by Elasticsearch\n",
    "ELASTIC_PASSWORD = \"1OHbcE+y*2c_JF0qpPKd\"\n",
    "# es_path = \"~/Documents/uwr/bots/elasticsearch-8.6.1/\"\n",
    "es_path = \"C:/Users/jakub/elasticsearch-8.5.3-windows-x86_64/elasticsearch-8.5.3/\"\n",
    "\n",
    "# Create the client instance\n",
    "client = Elasticsearch(\n",
    "    \"https://localhost:9200\",\n",
    "    ca_certs=es_path+\"config/certs/http_ca.crt\",\n",
    "    basic_auth=(\"elastic\", ELASTIC_PASSWORD)\n",
    ")"
   ]
  },
  {
   "cell_type": "code",
   "execution_count": 8,
   "id": "b715b014",
   "metadata": {},
   "outputs": [
    {
     "data": {
      "text/plain": [
       "True"
      ]
     },
     "execution_count": 8,
     "metadata": {},
     "output_type": "execute_result"
    }
   ],
   "source": [
    "# Check if you can connect to ES (bool)\n",
    "client.ping()"
   ]
  },
  {
   "cell_type": "markdown",
   "id": "17e81d04",
   "metadata": {},
   "source": [
    "# Index documents from wikipedia paragraphs"
   ]
  },
  {
   "cell_type": "code",
   "execution_count": 9,
   "id": "48f87869",
   "metadata": {},
   "outputs": [],
   "source": [
    "DATASET_FILE = \"../Data/fp_wiki.txt\""
   ]
  },
  {
   "cell_type": "code",
   "execution_count": 10,
   "id": "20d37483",
   "metadata": {},
   "outputs": [],
   "source": [
    "def generate_actions():\n",
    "    with open(DATASET_FILE, \"r\", encoding=\"UTF-8\") as file:\n",
    "        # Read the first line of the file\n",
    "        title_line = file.readline()\n",
    "        # Create a variable to store the ID of the next document\n",
    "        next_id = 0\n",
    "        # Keep reading lines until the end of the file is reached\n",
    "        while title_line:\n",
    "            # Check if the line starts with \"Title: \"\n",
    "            if title_line.startswith(\"TITLE: \"):\n",
    "                # Get the title by stripping the \"Title: \" prefix and the newline character at the end\n",
    "                title = title_line.lstrip(\"TITLE:\").strip()\n",
    "                # Read the second line of the file, which should be the title again\n",
    "                title_line = file.readline().strip()\n",
    "                # Save title for later usage\n",
    "                title = title_line\n",
    "                # Create a list to store the lines of the article\n",
    "                article_lines = []\n",
    "                # Read the next line, which should be the start of the article\n",
    "                article_line = file.readline()\n",
    "                # Keep reading lines until an empty line is reached\n",
    "                while article_line.strip():\n",
    "                    # Add the line to the list of article lines\n",
    "                    article_lines.append(article_line)\n",
    "                    # Read the next line\n",
    "                    article_line = file.readline()\n",
    "                # Join the lines of the article with newline characters to create the article\n",
    "                article = \"\\n\".join(article_lines) if article_lines else \"\"\n",
    "                # Create a dictionary for the document\n",
    "                document = {\"_id\": next_id, \"title\": title, \"article\": article}\n",
    "                # Yield new document\n",
    "                yield document\n",
    "                # Increment the ID for the next document\n",
    "                next_id += 1\n",
    "                # Read the next line, which should be the start of the next document\n",
    "                title_line = file.readline()"
   ]
  },
  {
   "cell_type": "code",
   "execution_count": 11,
   "id": "e9c5eb96",
   "metadata": {},
   "outputs": [],
   "source": [
    "index_name = \"offline_competition\""
   ]
  },
  {
   "cell_type": "code",
   "execution_count": 12,
   "id": "84f2ed20",
   "metadata": {},
   "outputs": [],
   "source": [
    "configurations = {\n",
    "    \"settings\": {\n",
    "        \"analysis\": {\n",
    "            \"analyzer\": {\n",
    "                \"lang_pl_morfologik\": { \n",
    "                    \"type\": \"custom\",\n",
    "                    \"tokenizer\": \"standard\",\n",
    "                    \"filter\": [\n",
    "                        \"morfologik_stem\"\n",
    "                    ]\n",
    "                }\n",
    "            }\n",
    "        }\n",
    "    },\n",
    "    \"mappings\": {\n",
    "        \"properties\": {\n",
    "            \"id\": {\"type\": \"long\"},\n",
    "            \"article\": {\n",
    "                \"type\": \"text\",\n",
    "                \"analyzer\": \"lang_pl_morfologik\"\n",
    "            },\n",
    "            \"title\": {\n",
    "                \"type\": \"text\",\n",
    "                \"analyzer\": \"lang_pl_morfologik\"\n",
    "            }\n",
    "        }\n",
    "    }\n",
    "}"
   ]
  },
  {
   "cell_type": "code",
   "execution_count": 13,
   "id": "ff863ced",
   "metadata": {},
   "outputs": [
    {
     "data": {
      "text/plain": [
       "ObjectApiResponse({'acknowledged': True, 'shards_acknowledged': True, 'index': 'offline_competition'})"
      ]
     },
     "execution_count": 13,
     "metadata": {},
     "output_type": "execute_result"
    }
   ],
   "source": [
    "client.options(ignore_status=[400,404]).indices.delete(index=index_name)\n",
    "\n",
    "client.indices.create(\n",
    "    index=index_name,\n",
    "    settings=configurations[\"settings\"],\n",
    "    mappings=configurations[\"mappings\"],\n",
    ")"
   ]
  },
  {
   "cell_type": "code",
   "execution_count": 14,
   "id": "fd90bde8",
   "metadata": {},
   "outputs": [
    {
     "name": "stdout",
     "output_type": "stream",
     "text": [
      "Indexing documents...\n"
     ]
    },
    {
     "data": {
      "application/vnd.jupyter.widget-view+json": {
       "model_id": "b60a9819c75b44ff8f22ad47ebb6a6ec",
       "version_major": 2,
       "version_minor": 0
      },
      "text/plain": [
       "  0%|          | 0/1209001 [00:00<?, ?docs/s]"
      ]
     },
     "metadata": {},
     "output_type": "display_data"
    },
    {
     "name": "stdout",
     "output_type": "stream",
     "text": [
      "Indexed 1208362/1209001 documents\n"
     ]
    }
   ],
   "source": [
    "print(\"Indexing documents...\")\n",
    "number_of_docs=1209001\n",
    "progress = tqdm(unit=\"docs\", total=number_of_docs)\n",
    "successes = 0\n",
    "for ok, action in streaming_bulk(\n",
    "    client=client, index=index_name, actions=generate_actions(),\n",
    "):\n",
    "    progress.update(1)\n",
    "    successes += ok\n",
    "print(\"Indexed %d/%d documents\" % (successes, number_of_docs))"
   ]
  },
  {
   "cell_type": "markdown",
   "id": "54444219",
   "metadata": {},
   "source": [
    "# Answer questions"
   ]
  },
  {
   "cell_type": "code",
   "execution_count": 9,
   "id": "0f2af0fb",
   "metadata": {},
   "outputs": [],
   "source": [
    "def retriever(question, index_name=\"offline_competition\", k=3):\n",
    "#     q = {'match': {\"article\": question}}\n",
    "    q = {\n",
    "        \"combined_fields\": {\n",
    "            \"query\" : question,\n",
    "            \"fields\" : [\"title\", \"article\"],\n",
    "        }\n",
    "    }\n",
    "    resp = client.search(index=index_name, \n",
    "                     query=q)\n",
    "    best_documents = list(sorted(resp['hits']['hits'], key=lambda k: k['_score'], reverse=True))\n",
    "    context = \"\"\n",
    "    for document in best_documents[:k]:\n",
    "        if document['_source']['title'].lower() not in document['_source']['article'].lower():\n",
    "            context += document['_source']['title'] + \" . \"\n",
    "        context += document['_source']['article'] + \"\\n\"\n",
    "    return context"
   ]
  },
  {
   "cell_type": "code",
   "execution_count": 25,
   "id": "741de37a",
   "metadata": {},
   "outputs": [],
   "source": [
    "def retriever_ner(question, ners, index_name=\"offline_competition\", k=3):\n",
    "    q = {\"bool\" : {\n",
    "            \"should\": {\"match\": {\"article\" : question}},\n",
    "#             \"should\": [{\"match\": {\"article\" : question}},\n",
    "#                        {\"match\": {\"title\" : {\"query\": question, \"boost\": 2}}}\n",
    "#             ],\n",
    "#             \"should\": {\n",
    "#                 \"combined_fields\" : {\n",
    "#                     \"query\" : question,\n",
    "#                     \"fields\" : [ \"title^2\", \"article\" ]\n",
    "#                     }},\n",
    "            \"must\": {\n",
    "                \"bool\": {\n",
    "                    \"should\": [\n",
    "                        {\"multi_match\" : {\n",
    "                            \"query\" : ner,\n",
    "                            \"fields\" : [\"title^2\", \"article\"],\n",
    "                            \"type\": \"phrase\"\n",
    "                        }} for ner in ners\n",
    "                    ], \n",
    "                    \"minimum_should_match\" : \"1<50%\"\n",
    "                }\n",
    "            }\n",
    "#             \"must\": {\n",
    "#                 \"bool\": {\n",
    "#                     \"should\": [{\"match_phrase\": {\"article\": ner}} for ner in ners].extend(\n",
    "#                         [{\"match_phrase\": {\"title\": ner}} for ner in ners]), \n",
    "#                     \"minimum_should_match\" : \"1<50%\"}\n",
    "#             }\n",
    "        }\n",
    "    }\n",
    "    resp = client.search(index=index_name, query=q)\n",
    "    best_documents = list(sorted(resp['hits']['hits'], key=lambda k: k['_score'], reverse=True))\n",
    "#     return best_documents\n",
    "    context = \"\"\n",
    "    for document in best_documents[:k]:\n",
    "        if document['_source']['title'].lower() not in document['_source']['article'].lower():\n",
    "            context += document['_source']['title'] + \" . \"\n",
    "        context += document['_source']['article'] + \"\\n\"\n",
    "    return context"
   ]
  },
  {
   "cell_type": "code",
   "execution_count": 139,
   "id": "3a4e0f15",
   "metadata": {},
   "outputs": [],
   "source": [
    "question = \"Kto był najlepszym przyjacielem Achillesa i uczestnikiem wojny trojańskiej; zginął z rąk Hektora?\""
   ]
  },
  {
   "cell_type": "code",
   "execution_count": 140,
   "id": "676efcb9",
   "metadata": {},
   "outputs": [
    {
     "data": {
      "text/plain": [
       "\"Hektor ( syn Priama ) . Hektor ( gr . Hektōr , łac . Hector ) – w mitologii greckiej królewicz i najdzielniejszy bohater trojański ; bohater `` Iliady '' Homera .\\n\\nUchodził za syna Priama i Hekabe ( Hekuba ) . Był bratem Parysa , Deifoba i Kasandry oraz mężem Andromachy .\\n\\nPoczątkowo był przeciwnikiem wybuchu wojny o Helenę .\\n\\nW czasie wojny trojańskiej zabił Patroklosa ( myśląc że to Achilles , gdyż miał na sobie jego zbroję ) , za co w odwecie zginął z ręki Achillesa pod murami Troi . Nawoływania rodziny Hektora do jego powrotu do twierdzy opisuje `` Lament Andromachy '' autorstwa Homera .\\n\\nPatroklos , Patrokles ( gr . `` Pátroklos '' , `` Patroklḗs '' , łac . `` Patroclus '' ) – w mitologii greckiej syn Menojtiosa , ukochany przyjaciel Achillesa . Patroklos zamieszkał na dworze ojca Achillesa , Peleusa , po tym jak zmuszony został do ucieczki z rodzinnego domu z powodu zabójstwa , którego dopuścił się w gniewie podczas gry w kości .\\n\\nU boku Achillesa walczył w wojnie trojańskiej . Zginął w natarciu na Troję z ręki Hektora , gdy nosił zbroję Achillesa , który wycofał się z walki . Pragnąc pomścić jego śmierć , Achilles postanowił zabić Hektora w pojedynku .\\n\\nDeifobos ( gr . Dēíphobos , łac . Deiphobus ) – w mitologii greckiej królewicz trojański , uczestnik wojny trojańskiej .\\n\\nUchodził za syna Priama i Hekabe oraz za młodszego brata Hektora i Parysa . Był tym , który rozpoznał Parysa po zwycięstwie nad braćmi w czasie żałobnych igrzysk . W czasie wojny trojańskiej ranił kreteńskiego wojownika – Merionesa . Gdy Hektor walczył z Achillesem i chciał się wycofać , Atena przybrawszy postać Deifobosa namówiła Hektora do prowadzenia dalszej walki z Achillesem . Doprowadziło to do śmierci Hektora , a Deifobos przejął dowodzenie nad Trojanami .\\n\\n\""
      ]
     },
     "execution_count": 140,
     "metadata": {},
     "output_type": "execute_result"
    }
   ],
   "source": [
    "ners, _ = get_ners(question, k=1)\n",
    "retriever_ner(question, ners)"
   ]
  },
  {
   "cell_type": "code",
   "execution_count": 148,
   "id": "aa438dd8",
   "metadata": {},
   "outputs": [
    {
     "data": {
      "text/plain": [
       "[{'_index': 'offline_competition',\n",
       "  '_id': '40272',\n",
       "  '_score': 57.786007,\n",
       "  '_source': {'title': 'Patroklos',\n",
       "   'article': \"Patroklos , Patrokles ( gr . `` Pátroklos '' , `` Patroklḗs '' , łac . `` Patroclus '' ) – w mitologii greckiej syn Menojtiosa , ukochany przyjaciel Achillesa . Patroklos zamieszkał na dworze ojca Achillesa , Peleusa , po tym jak zmuszony został do ucieczki z rodzinnego domu z powodu zabójstwa , którego dopuścił się w gniewie podczas gry w kości .\\n\\nU boku Achillesa walczył w wojnie trojańskiej . Zginął w natarciu na Troję z ręki Hektora , gdy nosił zbroję Achillesa , który wycofał się z walki . Pragnąc pomścić jego śmierć , Achilles postanowił zabić Hektora w pojedynku .\\n\"}},\n",
       " {'_index': 'offline_competition',\n",
       "  '_id': '26379',\n",
       "  '_score': 56.59058,\n",
       "  '_source': {'title': 'Hektor ( syn Priama )',\n",
       "   'article': \"Hektor ( gr . Hektōr , łac . Hector ) – w mitologii greckiej królewicz i najdzielniejszy bohater trojański ; bohater `` Iliady '' Homera .\\n\\nUchodził za syna Priama i Hekabe ( Hekuba ) . Był bratem Parysa , Deifoba i Kasandry oraz mężem Andromachy .\\n\\nPoczątkowo był przeciwnikiem wybuchu wojny o Helenę .\\n\\nW czasie wojny trojańskiej zabił Patroklosa ( myśląc że to Achilles , gdyż miał na sobie jego zbroję ) , za co w odwecie zginął z ręki Achillesa pod murami Troi . Nawoływania rodziny Hektora do jego powrotu do twierdzy opisuje `` Lament Andromachy '' autorstwa Homera .\\n\"}},\n",
       " {'_index': 'offline_competition',\n",
       "  '_id': '212606',\n",
       "  '_score': 53.578384,\n",
       "  '_source': {'title': 'Deifobos',\n",
       "   'article': 'Deifobos ( gr . Dēíphobos , łac . Deiphobus ) – w mitologii greckiej królewicz trojański , uczestnik wojny trojańskiej .\\n\\nUchodził za syna Priama i Hekabe oraz za młodszego brata Hektora i Parysa . Był tym , który rozpoznał Parysa po zwycięstwie nad braćmi w czasie żałobnych igrzysk . W czasie wojny trojańskiej ranił kreteńskiego wojownika – Merionesa . Gdy Hektor walczył z Achillesem i chciał się wycofać , Atena przybrawszy postać Deifobosa namówiła Hektora do prowadzenia dalszej walki z Achillesem . Doprowadziło to do śmierci Hektora , a Deifobos przejął dowodzenie nad Trojanami .\\n'}},\n",
       " {'_index': 'offline_competition',\n",
       "  '_id': '78022',\n",
       "  '_score': 52.619926,\n",
       "  '_source': {'title': 'Antilochos',\n",
       "   'article': \"Antilochos ( gr . Antílochos , łac . Antilochus ) – w mitologii greckiej jeden z synów Nestora , króla Pylos , i Eurydyki . Miał dziewięcioro rodzeństwa .\\n\\nBył jednym z zalotników Heleny Trojańskiej , i razem z ojcem brał udział w wojnie trojańskiej . Był przystojnym mężczyzną i świetnym biegaczem oraz woźnicą rydwanu , należał do najmłodszych uczestników wojny . Przyjaźnił się z Achillesem i to on przekazał mu wiadomość o śmierci Patroklosa . Podczas igrzysk żałobnych na cześć Patroklosa , Antyloch zajął drugie miejsce w powożeniu rydwanem i trzecie w biegu . Z jego ręki zginęli Melanipos , Ableros , Echepolos , Atymnios , Falkes i Ton . Uratował swojego ojca przed śmiercią z ręki Memnona i sam zginął – w ten sposób spełniła się przepowiednia , która ostrzegała , aby `` wystrzegał się Etiopczyka '' . Według niektórych źródeł zabił go Hektor lub zginął w świątyni Apolla u boku Achillesa z ręki Parysa .\\n\"}},\n",
       " {'_index': 'offline_competition',\n",
       "  '_id': '77733',\n",
       "  '_score': 42.897408,\n",
       "  '_source': {'title': 'Ajas ( syn Telamona )',\n",
       "   'article': \"Ajas ( także Ajaks , zw . Wielkim , gr . `` Aías '' , łac . `` Aiax '' ) – w mitologii greckiej uczestnik wojny trojańskiej ; bohater `` Iliady '' Homera .\\n\\nUchodził za syna Telamona ( króla Salaminy ) i jego pierwszej żony Periboi ( Eriboi ) oraz przyrodniego brata Teukrosa .\\n\\nBył drugim ( po Achillesie ) pod względem dzielności wojownikiem achajskim . Omal udało mu się zabić Hektora za pomocą ogromnego głazu . Zabił wielu Trojan . Kiedy Achilles zginął z ręki Parysa , Ajaks razem z Odyseuszem wynieśli jego ciało z pola bitwy . Odyseusz wywiózł je na swoim rydwanie , a Ajas go osłaniał . Potem obaj rywalizowali o zbroję po Achillesie i wygrał Odyseusz . Gdy zmęczony Ajas zasnął , Atena zesłała na niego szał . Kiedy się obudził , wyrżnął stado baranów , które wziął za achajskich przywódców ( w tym Odyseusza i Agamemnona ) . Oprzytomniawszy , ze wstydu popełnił samobójstwo . Samobójstwo Ajasa było prawdopodobnie pierwszym opisanym przez literaturę europejską targnięciem się człowieka na własne życie .\\n\"}},\n",
       " {'_index': 'offline_competition',\n",
       "  '_id': '213595',\n",
       "  '_score': 41.587585,\n",
       "  '_source': {'title': 'Helenos ( syn Priama )',\n",
       "   'article': 'Helenos ( gr . Helenos , łac . Helenus ) – w mitologii greckiej wieszczek i królewicz trojański .\\n\\nUchodził za syna Priama i Hekabe . Potrafił przepowiadać przyszłość tak jak jego bliźniacza siostra Kasandra . Był ulubieńcem Apolla i dostał od niego łuk z kości słoniowej , z którego zranił rękę Achillesa . Przepowiedział Parysowi wszystkie nieszczęścia wynikające z jego związku z Heleną .\\n\\nW początkowym okresie wojny trojańskiej walczył dzielnie u boku Hektora . Po jego śmierci stanął na czele Trojan . Gdy Priam odmówił mu ręki Heleny po śmierci Parysa , odszedł na górę Ida z postanowieniem , że nie będzie uczestniczyć w wojnie . Grecy , gdy dowiedzieli się od Kalchasa , że tylko Helenos zna warunki pod jakimi mogą zdobyć Troję , postanowili go pojmać . Udało się tego dokonać Odyseuszowi . Helenos podał szereg warunków ( patrz : wojna trojańska ) , a niektórzy autorzy przypisują mu pomysł z koniem trojańskim . Prawdopodobnie ta współpraca z Grekami zapewniła mu życie i wolność po upadku Troi . Wieszcz przepowiedział między innymi , że do upadku Troi niezbędna jest obecność Neoptolemosa , syna Achillesa , oraz Filokteta , doskonałego łucznika , władającego łukiem otrzymanym od Heraklesa .\\n'}},\n",
       " {'_index': 'offline_competition',\n",
       "  '_id': '72147',\n",
       "  '_score': 39.347385,\n",
       "  '_source': {'title': '( 624 ) Hektor',\n",
       "   'article': '( 624 ) Hektor – planetoida z grupy trojańczyków Jowisza obozu greckiego .\\n\\nPlanetoida została odkryta 10 lutego 1907 roku w Landessternwarte Heidelberg-Königstuhl w Heidelbergu przez astronoma Augusta Kopffa . Nazwa pochodzi od mitologicznego wojownika Hektora , bohatera wojny trojańskiej zabitego przez Achillesa .\\n\\nOrbita ( 624 ) Hektora nachylona jest do płaszczyzny ekliptyki pod kątem 18,19° . Na jeden obieg wokół Słońca ciało to potrzebuje 11,93 roku , krążąc w średniej odległości 5,35 j.a . od naszej Dziennej Gwiazdy . Mimośród orbity tej planetoidy to 0,024 .\\n'}},\n",
       " {'_index': 'offline_competition',\n",
       "  '_id': '621302',\n",
       "  '_score': 37.205128,\n",
       "  '_source': {'title': 'Protesilaos',\n",
       "   'article': 'Protesilaos – w mitologii greckiej syn Ifiklosa i Astyoche , jeden z zalotników Heleny , uczestnik wojny trojańskiej . W Troadzie jako pierwszy z Achajów postawił stopę na lądzie i natychmiast zginął z ręki Hektora ( według innej wersji Achatesa ) .\\n\\nPo śmierci ubłagał Hadesa , by ten pozwolił mu wrócić na jedną noc do domu . Po nocy spędzonej z małżonką , Laodamią , wrócił do krainy zmarłych , zaś Laodamia popełniła samobójstwo by połączyć się z mężem .\\n\\nWedług innej wersji mitu Protesilaos przeżył wojnę trojańską i otrzymał w nagrodę siostrę Priama , Ajtyllę . W drodze powrotnej do domu zatrzymał się na chalkidyckim półwyspie Pellene , gdzie Ajtylla wraz z innymi brankami spaliła jego okręty . Protesilaos osiadł tam wówczas na stałe i założył miasto Skione .\\n'}},\n",
       " {'_index': 'offline_competition',\n",
       "  '_id': '26381',\n",
       "  '_score': 34.23007,\n",
       "  '_source': {'title': 'Priam',\n",
       "   'article': \"Priam ( gr . Príamos , łac . Priamus ) – w mitologii greckiej król Troi ; bohater `` Iliady '' Homera .\\n\\nUchodził za syna Laomedona . Doradcą Priama był Antenor .\\n\\nWedług `` Iliady '' miał 20 żon i z nimi 50 synów oraz 12 córek . Był mężem Arisbe , córki Meraopsa , a później Hekaby ( dzieci z Hekabą zaznaczono symbolem * ) . To on wybłagał u Achillesa ciało swego syna Hektora . Po zdobyciu Troi przez Greków ( podczas wojny trojańskiej ) zamordował go syn Achillesa , Neoptolemos .\\n\\nSynowie Priama:\\n\\nTroilos , Hektor* , Agaton , Polites* , Deifobos* , Antifones , Idomeneos , Likaon , Esakos , Tymoetes , Polidor , Demokos , Laodokus , Echefron , Helenos* , Polidamas* , Pandaros , Pammon , Hypokios , Antyfos , Hiponoos , Gorgition , Archemakos , Mylios , Kebriones , Melanipos , Mestor , Filemon , Glaukos , Astygones , Ewagoras , Atas , Doryklos , Bias , Dryops , Chersydamas , Telestas , Chromius , Demokoon , Askaniusz , Hyperion , Egoneos , Klonios , Deioptes , Lizytos , Polidemon , Iso , Echemmon , Parys* , Dios .\\n\"}},\n",
       " {'_index': 'offline_competition',\n",
       "  '_id': '37464',\n",
       "  '_score': 34.217937,\n",
       "  '_source': {'title': 'Pięta achillesowa',\n",
       "   'article': 'Pięta achillesowa , Achillesa – wywodzący się z mitologii greckiej związek frazeologiczny oznaczający słaby punkt kogoś lub czegoś .\\n\\nAchilles jako dziecko został zanurzony przez matkę , boginkę morską Nereidę Tetydę , w wodach Styksu . Ciało jego miało być dzięki temu uodpornione na wszelkie ciosy . Jedynie pięta , za którą trzymała go matka w czasie kąpieli , była później jego najsłabszym punktem . Według jednej z wersji mitu Achilles zginął podczas wojny trojańskiej ugodzony w piętę zatrutą strzałą Parysa .\\n'}}]"
      ]
     },
     "execution_count": 148,
     "metadata": {},
     "output_type": "execute_result"
    }
   ],
   "source": [
    "q = {\n",
    "    \"combined_fields\": {\n",
    "        \"query\" : question,\n",
    "        \"fields\" : [\"title\", \"article\"],\n",
    "    }\n",
    "}\n",
    "resp = client.search(index=\"offline_competition\", \n",
    "                     query=q)\n",
    "resp['hits']['hits']"
   ]
  },
  {
   "cell_type": "code",
   "execution_count": 11,
   "id": "efcccb48",
   "metadata": {},
   "outputs": [],
   "source": [
    "def get_ners(question, k=1, verbose=False):\n",
    "    classfication = ner_classifier(question)\n",
    "    if verbose:\n",
    "        print(*classfication, sep=\"\\n\")\n",
    "    if len(classfication) == 0:\n",
    "        return question, False\n",
    "    entities = []\n",
    "    word = \"\"\n",
    "    end_place = classfication[0][\"start\"]\n",
    "    for token in classfication:\n",
    "        if token[\"start\"] != end_place and token[\"entity\"][0] == \"B\":\n",
    "            entities.append(word.strip())\n",
    "            word = \"\"\n",
    "        word += token[\"word\"].replace(\"</w>\", \" \")\n",
    "        end_place = token[\"end\"]\n",
    "    entities.append(word.strip())\n",
    "    if len(entities) >= k:\n",
    "        return entities, True\n",
    "    else:\n",
    "        return question, False"
   ]
  },
  {
   "cell_type": "code",
   "execution_count": 22,
   "id": "a8cccbb6",
   "metadata": {},
   "outputs": [
    {
     "name": "stdout",
     "output_type": "stream",
     "text": [
      "{'entity': 'B-nam_pro_title', 'score': 0.9894637, 'index': 4, 'word': 'Bła', 'start': 13, 'end': 16}\n",
      "{'entity': 'B-nam_pro_title', 'score': 0.985679, 'index': 5, 'word': 'gal', 'start': 16, 'end': 19}\n",
      "{'entity': 'B-nam_pro_title', 'score': 0.9874556, 'index': 6, 'word': 'nice</w>', 'start': 19, 'end': 23}\n",
      "{'entity': 'B-nam_pro_title', 'score': 0.99123126, 'index': 10, 'word': 'Per', 'start': 28, 'end': 31}\n",
      "{'entity': 'B-nam_pro_title', 'score': 0.9807936, 'index': 11, 'word': 'sów</w>', 'start': 31, 'end': 34}\n"
     ]
    },
    {
     "data": {
      "text/plain": [
       "(['Błagalnice', 'Persów'], True)"
      ]
     },
     "execution_count": 22,
     "metadata": {},
     "output_type": "execute_result"
    }
   ],
   "source": [
    "get_ners(\"Kto napisał „Błagalnice” i „Persów”?\", verbose=True)"
   ]
  },
  {
   "cell_type": "code",
   "execution_count": 23,
   "id": "508ba7cd",
   "metadata": {},
   "outputs": [
    {
     "name": "stdout",
     "output_type": "stream",
     "text": [
      "{'entity': 'B-nam_liv_person', 'score': 0.99849844, 'index': 2, 'word': 'Ul', 'start': 4, 'end': 6}\n",
      "{'entity': 'B-nam_liv_person', 'score': 0.57404584, 'index': 3, 'word': 'rich</w>', 'start': 6, 'end': 10}\n",
      "{'entity': 'I-nam_liv_person', 'score': 0.999582, 'index': 4, 'word': 'von</w>', 'start': 11, 'end': 14}\n",
      "{'entity': 'I-nam_liv_person', 'score': 0.99952126, 'index': 5, 'word': 'jun', 'start': 15, 'end': 18}\n",
      "{'entity': 'I-nam_liv_person', 'score': 0.9994435, 'index': 6, 'word': 'gin', 'start': 18, 'end': 21}\n",
      "{'entity': 'I-nam_liv_person', 'score': 0.9992925, 'index': 7, 'word': 'gen</w>', 'start': 21, 'end': 24}\n",
      "{'entity': 'B-nam_loc_gpe_city', 'score': 0.99921834, 'index': 14, 'word': 'Malborku</w>', 'start': 46, 'end': 54}\n"
     ]
    },
    {
     "data": {
      "text/plain": [
       "(['Ulrich von jungingen', 'Malborku'], True)"
      ]
     },
     "execution_count": 23,
     "metadata": {},
     "output_type": "execute_result"
    }
   ],
   "source": [
    "get_ners(\"Czy Ulrich von jungingen został oskalpowany w Malborku?\", verbose=True)"
   ]
  },
  {
   "cell_type": "markdown",
   "id": "ae4c82da",
   "metadata": {},
   "source": [
    "## Herbert"
   ]
  },
  {
   "cell_type": "code",
   "execution_count": null,
   "id": "0990f536",
   "metadata": {},
   "outputs": [],
   "source": [
    "k = 5"
   ]
  },
  {
   "cell_type": "code",
   "execution_count": 24,
   "id": "27a44ffc",
   "metadata": {},
   "outputs": [
    {
     "name": "stderr",
     "output_type": "stream",
     "text": [
      "100%|████████████████████████████████████████████████████████████████████████████| 3500/3500 [3:04:14<00:00,  3.16s/it]\n"
     ]
    }
   ],
   "source": [
    "with open(f'HerbertAnswers/offline_competition_k_{k}.txt', 'a', encoding='UTF-8') as f:\n",
    "    with open(f'HerbertAnswers/offline_competition_k_{k}_with_confidence.txt', 'a', encoding='UTF-8') as f_confidence:\n",
    "        for question, _ in tqdm(question_answers):\n",
    "            context = retriever(question, index_name=\"offline_competition\", k=k)\n",
    "            result = get_answer_herbert(context, question)\n",
    "            predicted_answer = result['answer'].replace(\"\\n\", \" \").replace(\"\\t\", \" \").strip()\n",
    "            confidence = result['score'] if predicted_answer != \"\" else 0.0\n",
    "            f.write(predicted_answer + \"\\n\")\n",
    "            f_confidence.write(f\"{predicted_answer}\\t{confidence}\\n\")        "
   ]
  },
  {
   "cell_type": "code",
   "execution_count": 33,
   "id": "2f77770f",
   "metadata": {},
   "outputs": [],
   "source": [
    "with open(f'HerbertAnswers/offline_competition_k_{k}.txt', 'r', encoding='UTF-8') as f:\n",
    "    with open('found_answers.txt', 'w', encoding='UTF-8') as f_answers:\n",
    "        for line in f:\n",
    "            f_answers.write(line)"
   ]
  },
  {
   "cell_type": "code",
   "execution_count": 34,
   "id": "f3df89d6",
   "metadata": {},
   "outputs": [],
   "source": [
    "with open('correct_answers.txt', 'w', encoding='UTF-8') as f:\n",
    "    for _, answers in question_answers:\n",
    "        f.write(\"\\t\".join(answers) + \"\\n\")"
   ]
  },
  {
   "cell_type": "code",
   "execution_count": 35,
   "id": "02a409fb",
   "metadata": {
    "scrolled": true
   },
   "outputs": [
    {
     "name": "stdout",
     "output_type": "stream",
     "text": [
      "TOTAL SCORE: 0.21114285714285713\n"
     ]
    }
   ],
   "source": [
    "!python advent_answer_check.py"
   ]
  },
  {
   "cell_type": "markdown",
   "id": "167a4ae3",
   "metadata": {},
   "source": [
    "## PLT5"
   ]
  },
  {
   "cell_type": "code",
   "execution_count": 12,
   "id": "528c9313",
   "metadata": {},
   "outputs": [],
   "source": [
    "k = 5"
   ]
  },
  {
   "cell_type": "code",
   "execution_count": 26,
   "id": "4a15677f",
   "metadata": {},
   "outputs": [
    {
     "data": {
      "application/vnd.jupyter.widget-view+json": {
       "model_id": "a2a81d2d2deb4e978eb7103db5b8c3e6",
       "version_major": 2,
       "version_minor": 0
      },
      "text/plain": [
       "  0%|          | 0/3500 [00:00<?, ?it/s]"
      ]
     },
     "metadata": {},
     "output_type": "display_data"
    }
   ],
   "source": [
    "with open(f'PLT5BaseAnswers/offline_competition_k_{k}_ners_Aprime3.txt', 'a', encoding='UTF-8') as f:\n",
    "    with open(f'PLT5BaseAnswers/offline_competition_k_{k}_ners_with_confidence_Aprime3.txt', 'a', encoding='UTF-8') as f_confidence:\n",
    "        i = 0\n",
    "        for question, _ in tqdm(question_answers):\n",
    "            if i % 5 == 0:\n",
    "                ners, ner_successful = get_ners(question)\n",
    "                if ner_successful:\n",
    "                    context = retriever_ner(question, ners, index_name=\"offline_competition\", k=k)\n",
    "                else:\n",
    "                    context = retriever(question, index_name=\"offline_competition\", k=k)\n",
    "                result = get_answer_plt5(context, question)\n",
    "                predicted_answer = result['answer'].replace(\"\\n\", \" \").replace(\"\\t\", \" \").strip()\n",
    "                confidence = result['score'] if predicted_answer != \"\" else 0.0\n",
    "                f.write(predicted_answer + \"\\n\")\n",
    "                f_confidence.write(f\"{predicted_answer}\\t{confidence}\\n\")\n",
    "            i += 1"
   ]
  },
  {
   "cell_type": "code",
   "execution_count": 27,
   "id": "b7dd185b",
   "metadata": {},
   "outputs": [],
   "source": [
    "with open(f'PLT5BaseAnswers/offline_competition_k_{k}_ners_Aprime3.txt', 'r', encoding='UTF-8') as f:\n",
    "    with open('found_answers.txt', 'w', encoding='UTF-8') as f_answers:\n",
    "        for line in f:\n",
    "            f_answers.write(line)"
   ]
  },
  {
   "cell_type": "code",
   "execution_count": 110,
   "id": "c717f3ac",
   "metadata": {},
   "outputs": [],
   "source": [
    "with open('found_answers.txt', 'r', encoding='UTF-8') as f:\n",
    "    with open('FinalAnswers/TestAprime_Offline.txt', 'w', encoding='UTF-8') as f_answers:\n",
    "        for line in f:\n",
    "            f_answers.write(line)"
   ]
  },
  {
   "cell_type": "code",
   "execution_count": 22,
   "id": "64d02cde",
   "metadata": {},
   "outputs": [],
   "source": [
    "with open('correct_answers.txt', 'w', encoding='UTF-8') as f:\n",
    "    i = 0\n",
    "    for _, answers in question_answers:\n",
    "        if i % 5 == 0:\n",
    "            f.write(\"\\t\".join(answers) + \"\\n\")\n",
    "        i += 1"
   ]
  },
  {
   "cell_type": "code",
   "execution_count": 16,
   "id": "877bf785",
   "metadata": {},
   "outputs": [
    {
     "name": "stdout",
     "output_type": "stream",
     "text": [
      "TOTAL SCORE: 0.37714285714285717\n"
     ]
    }
   ],
   "source": [
    "# NER1\n",
    "!python advent_answer_check.py"
   ]
  },
  {
   "cell_type": "code",
   "execution_count": 23,
   "id": "eae76b48",
   "metadata": {},
   "outputs": [
    {
     "name": "stdout",
     "output_type": "stream",
     "text": [
      "TOTAL SCORE: 0.3657142857142857\n"
     ]
    }
   ],
   "source": [
    "# NER2\n",
    "!python advent_answer_check.py"
   ]
  },
  {
   "cell_type": "code",
   "execution_count": 28,
   "id": "15fcf7a2",
   "metadata": {},
   "outputs": [
    {
     "name": "stdout",
     "output_type": "stream",
     "text": [
      "TOTAL SCORE: 0.36142857142857143\n"
     ]
    }
   ],
   "source": [
    "# NER3\n",
    "!python advent_answer_check.py"
   ]
  },
  {
   "cell_type": "code",
   "execution_count": 112,
   "id": "d2b76e85",
   "metadata": {},
   "outputs": [
    {
     "name": "stdout",
     "output_type": "stream",
     "text": [
      "TOTAL SCORE: 0.3485714285714286\n"
     ]
    }
   ],
   "source": [
    "# No NERs\n",
    "!python advent_answer_check.py"
   ]
  },
  {
   "cell_type": "code",
   "execution_count": null,
   "id": "63406fab",
   "metadata": {},
   "outputs": [],
   "source": []
  }
 ],
 "metadata": {
  "kernelspec": {
   "display_name": "Python 3 (ipykernel)",
   "language": "python",
   "name": "python3"
  },
  "language_info": {
   "codemirror_mode": {
    "name": "ipython",
    "version": 3
   },
   "file_extension": ".py",
   "mimetype": "text/x-python",
   "name": "python",
   "nbconvert_exporter": "python",
   "pygments_lexer": "ipython3",
   "version": "3.9.13"
  }
 },
 "nbformat": 4,
 "nbformat_minor": 5
}
